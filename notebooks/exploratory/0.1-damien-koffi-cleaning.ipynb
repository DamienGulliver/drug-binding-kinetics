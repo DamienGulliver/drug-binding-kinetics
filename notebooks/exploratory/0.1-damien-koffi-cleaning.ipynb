{
 "cells": [
  {
   "cell_type": "code",
   "execution_count": null,
   "metadata": {},
   "outputs": [],
   "source": [
    "#wget http://koffidb.org/download/results -O KOFFI-data.csv\n",
    "#wget http://dx.doi.org/10.6019/CHEMBL3885741 -O KFDD-data.xlsx - check this file download"
   ]
  },
  {
   "cell_type": "code",
   "execution_count": 58,
   "metadata": {},
   "outputs": [],
   "source": [
    "import pandas as pd\n",
    "import numpy as np\n",
    "import pyarrow as py"
   ]
  },
  {
   "cell_type": "code",
   "execution_count": 2,
   "metadata": {},
   "outputs": [],
   "source": [
    "koffi = pd.read_csv('/Users/damien/Projects/drug-binding-kinetics/data/raw/KOFFI-data.csv')"
   ]
  },
  {
   "cell_type": "code",
   "execution_count": 3,
   "metadata": {},
   "outputs": [
    {
     "data": {
      "text/html": [
       "<div>\n",
       "<style scoped>\n",
       "    .dataframe tbody tr th:only-of-type {\n",
       "        vertical-align: middle;\n",
       "    }\n",
       "\n",
       "    .dataframe tbody tr th {\n",
       "        vertical-align: top;\n",
       "    }\n",
       "\n",
       "    .dataframe thead th {\n",
       "        text-align: right;\n",
       "    }\n",
       "</style>\n",
       "<table border=\"1\" class=\"dataframe\">\n",
       "  <thead>\n",
       "    <tr style=\"text-align: right;\">\n",
       "      <th></th>\n",
       "      <th>ID</th>\n",
       "      <th>article</th>\n",
       "      <th>method</th>\n",
       "      <th>device</th>\n",
       "      <th>Chip/Biosensor</th>\n",
       "      <th>Software</th>\n",
       "      <th>Evaluation Method</th>\n",
       "      <th>Fitting Model</th>\n",
       "      <th>Fixed Partner</th>\n",
       "      <th>Fixed Partner.1</th>\n",
       "      <th>...</th>\n",
       "      <th>comment</th>\n",
       "      <th>Figures and tables</th>\n",
       "      <th>Is raw data present?</th>\n",
       "      <th>Is the raw data of good quality?</th>\n",
       "      <th>Are fits shown?</th>\n",
       "      <th>How do the fits look?</th>\n",
       "      <th>article__doi</th>\n",
       "      <th>article__journal</th>\n",
       "      <th>article__pubdate</th>\n",
       "      <th>article__title</th>\n",
       "    </tr>\n",
       "  </thead>\n",
       "  <tbody>\n",
       "    <tr>\n",
       "      <th>0</th>\n",
       "      <td>309</td>\n",
       "      <td>PMC3982047</td>\n",
       "      <td>Microscale Thermophoresis (MST)</td>\n",
       "      <td>Monolith NT.115</td>\n",
       "      <td>NaN</td>\n",
       "      <td>NaN</td>\n",
       "      <td>NaN</td>\n",
       "      <td>NaN</td>\n",
       "      <td>AtNRT1.1</td>\n",
       "      <td>Arabidopsis thaliana nitrate transporter</td>\n",
       "      <td>...</td>\n",
       "      <td>NaN</td>\n",
       "      <td>subfig2</td>\n",
       "      <td>Y</td>\n",
       "      <td>N</td>\n",
       "      <td>Y</td>\n",
       "      <td>B</td>\n",
       "      <td>10.1038/nature13116</td>\n",
       "      <td>Nature</td>\n",
       "      <td>2014-02-26</td>\n",
       "      <td>Molecular basis of nitrate uptake by the plant...</td>\n",
       "    </tr>\n",
       "    <tr>\n",
       "      <th>1</th>\n",
       "      <td>1759</td>\n",
       "      <td>PMC4309432</td>\n",
       "      <td>Microscale Thermophoresis (MST)</td>\n",
       "      <td>Monolith NT.115</td>\n",
       "      <td>Monolith NT Standard Treated Capillaries</td>\n",
       "      <td>NaN</td>\n",
       "      <td>NaN</td>\n",
       "      <td>NaN</td>\n",
       "      <td>rACBP3</td>\n",
       "      <td>recombinant acyl-CoA-binding protein 3</td>\n",
       "      <td>...</td>\n",
       "      <td>NaN</td>\n",
       "      <td>fig 9</td>\n",
       "      <td>Y</td>\n",
       "      <td>X</td>\n",
       "      <td>Y</td>\n",
       "      <td>R</td>\n",
       "      <td>10.1111/tpj.12692</td>\n",
       "      <td>The Plant Journal</td>\n",
       "      <td>2014-10-06</td>\n",
       "      <td>Arabidopsis acyl-CoA-binding protein ACBP3 par...</td>\n",
       "    </tr>\n",
       "    <tr>\n",
       "      <th>2</th>\n",
       "      <td>1761</td>\n",
       "      <td>PMC4309432</td>\n",
       "      <td>Microscale Thermophoresis (MST)</td>\n",
       "      <td>Monolith NT.115</td>\n",
       "      <td>Monolith NT Standard Treated Capillaries</td>\n",
       "      <td>NaN</td>\n",
       "      <td>NaN</td>\n",
       "      <td>NaN</td>\n",
       "      <td>rACBP3</td>\n",
       "      <td>recombinant acyl-CoA-binding protein 3</td>\n",
       "      <td>...</td>\n",
       "      <td>NaN</td>\n",
       "      <td>fig 9</td>\n",
       "      <td>Y</td>\n",
       "      <td>X</td>\n",
       "      <td>Y</td>\n",
       "      <td>R</td>\n",
       "      <td>10.1111/tpj.12692</td>\n",
       "      <td>The Plant Journal</td>\n",
       "      <td>2014-10-06</td>\n",
       "      <td>Arabidopsis acyl-CoA-binding protein ACBP3 par...</td>\n",
       "    </tr>\n",
       "    <tr>\n",
       "      <th>3</th>\n",
       "      <td>1760</td>\n",
       "      <td>PMC4309432</td>\n",
       "      <td>Microscale Thermophoresis (MST)</td>\n",
       "      <td>Monolith NT.115</td>\n",
       "      <td>Monolith NT Standard Treated Capillaries</td>\n",
       "      <td>NaN</td>\n",
       "      <td>NaN</td>\n",
       "      <td>NaN</td>\n",
       "      <td>rACBP3</td>\n",
       "      <td>recombinant acyl-CoA-binding protein 3</td>\n",
       "      <td>...</td>\n",
       "      <td>NaN</td>\n",
       "      <td>fig 9</td>\n",
       "      <td>Y</td>\n",
       "      <td>N</td>\n",
       "      <td>Y</td>\n",
       "      <td>R</td>\n",
       "      <td>10.1111/tpj.12692</td>\n",
       "      <td>The Plant Journal</td>\n",
       "      <td>2014-10-06</td>\n",
       "      <td>Arabidopsis acyl-CoA-binding protein ACBP3 par...</td>\n",
       "    </tr>\n",
       "    <tr>\n",
       "      <th>4</th>\n",
       "      <td>307</td>\n",
       "      <td>PMC3982047</td>\n",
       "      <td>Microscale Thermophoresis (MST)</td>\n",
       "      <td>Monolith NT.115</td>\n",
       "      <td>NaN</td>\n",
       "      <td>NaN</td>\n",
       "      <td>NaN</td>\n",
       "      <td>NaN</td>\n",
       "      <td>AtNRT1.1</td>\n",
       "      <td>Arabidopsis thaliana nitrate transporter</td>\n",
       "      <td>...</td>\n",
       "      <td>NaN</td>\n",
       "      <td>fig1a,subfig2</td>\n",
       "      <td>Y</td>\n",
       "      <td>Y</td>\n",
       "      <td>Y</td>\n",
       "      <td>R</td>\n",
       "      <td>10.1038/nature13116</td>\n",
       "      <td>Nature</td>\n",
       "      <td>2014-02-26</td>\n",
       "      <td>Molecular basis of nitrate uptake by the plant...</td>\n",
       "    </tr>\n",
       "  </tbody>\n",
       "</table>\n",
       "<p>5 rows × 38 columns</p>\n",
       "</div>"
      ],
      "text/plain": [
       "     ID     article                           method           device  \\\n",
       "0   309  PMC3982047  Microscale Thermophoresis (MST)  Monolith NT.115   \n",
       "1  1759  PMC4309432  Microscale Thermophoresis (MST)  Monolith NT.115   \n",
       "2  1761  PMC4309432  Microscale Thermophoresis (MST)  Monolith NT.115   \n",
       "3  1760  PMC4309432  Microscale Thermophoresis (MST)  Monolith NT.115   \n",
       "4   307  PMC3982047  Microscale Thermophoresis (MST)  Monolith NT.115   \n",
       "\n",
       "                             Chip/Biosensor Software Evaluation Method  \\\n",
       "0                                       NaN      NaN               NaN   \n",
       "1  Monolith NT Standard Treated Capillaries      NaN               NaN   \n",
       "2  Monolith NT Standard Treated Capillaries      NaN               NaN   \n",
       "3  Monolith NT Standard Treated Capillaries      NaN               NaN   \n",
       "4                                       NaN      NaN               NaN   \n",
       "\n",
       "  Fitting Model Fixed Partner                           Fixed Partner.1  ...  \\\n",
       "0           NaN      AtNRT1.1  Arabidopsis thaliana nitrate transporter  ...   \n",
       "1           NaN        rACBP3    recombinant acyl-CoA-binding protein 3  ...   \n",
       "2           NaN        rACBP3    recombinant acyl-CoA-binding protein 3  ...   \n",
       "3           NaN        rACBP3    recombinant acyl-CoA-binding protein 3  ...   \n",
       "4           NaN      AtNRT1.1  Arabidopsis thaliana nitrate transporter  ...   \n",
       "\n",
       "  comment Figures and tables Is raw data present?  \\\n",
       "0     NaN            subfig2                    Y   \n",
       "1     NaN              fig 9                    Y   \n",
       "2     NaN              fig 9                    Y   \n",
       "3     NaN              fig 9                    Y   \n",
       "4     NaN      fig1a,subfig2                    Y   \n",
       "\n",
       "  Is the raw data of good quality? Are fits shown? How do the fits look?  \\\n",
       "0                                N               Y                     B   \n",
       "1                                X               Y                     R   \n",
       "2                                X               Y                     R   \n",
       "3                                N               Y                     R   \n",
       "4                                Y               Y                     R   \n",
       "\n",
       "          article__doi   article__journal article__pubdate  \\\n",
       "0  10.1038/nature13116             Nature       2014-02-26   \n",
       "1    10.1111/tpj.12692  The Plant Journal       2014-10-06   \n",
       "2    10.1111/tpj.12692  The Plant Journal       2014-10-06   \n",
       "3    10.1111/tpj.12692  The Plant Journal       2014-10-06   \n",
       "4  10.1038/nature13116             Nature       2014-02-26   \n",
       "\n",
       "                                      article__title  \n",
       "0  Molecular basis of nitrate uptake by the plant...  \n",
       "1  Arabidopsis acyl-CoA-binding protein ACBP3 par...  \n",
       "2  Arabidopsis acyl-CoA-binding protein ACBP3 par...  \n",
       "3  Arabidopsis acyl-CoA-binding protein ACBP3 par...  \n",
       "4  Molecular basis of nitrate uptake by the plant...  \n",
       "\n",
       "[5 rows x 38 columns]"
      ]
     },
     "execution_count": 3,
     "metadata": {},
     "output_type": "execute_result"
    }
   ],
   "source": [
    "koffi.head()"
   ]
  },
  {
   "cell_type": "code",
   "execution_count": 4,
   "metadata": {},
   "outputs": [
    {
     "name": "stdout",
     "output_type": "stream",
     "text": [
      "data shape:  (1705, 38)\n",
      "data columns:  Index(['ID', 'article', 'method', 'device', 'Chip/Biosensor', 'Software',\n",
      "       'Evaluation Method', 'Fitting Model', 'Fixed Partner',\n",
      "       'Fixed Partner.1', 'Fixed Partner.2', 'Fixed Partner Type:',\n",
      "       'Fixed Partner Main Type:', 'Fixed Protein/DNA Sequence or SMILE',\n",
      "       'Fixed Partner Species', 'Soluble Partner', 'Soluble Partner.1',\n",
      "       'Soluble Partner.2', 'Soluble Partner Type:',\n",
      "       'Soluble Partner Main Type:', 'Soluble Protein/DNA Sequence or SMILE',\n",
      "       'Soluble Partner Species', 'kon/kass/ka', 'STD kon', 'koff/kdis/kd',\n",
      "       'STD koff', 'KD', 'STD KD', 'comment', 'Figures and tables',\n",
      "       'Is raw data present?', 'Is the raw data of good quality?',\n",
      "       'Are fits shown?', 'How do the fits look?', 'article__doi',\n",
      "       'article__journal', 'article__pubdate', 'article__title'],\n",
      "      dtype='object')\n"
     ]
    }
   ],
   "source": [
    "print('data shape: ', koffi.shape)\n",
    "print('data columns: ', koffi.columns)"
   ]
  },
  {
   "cell_type": "code",
   "execution_count": 5,
   "metadata": {},
   "outputs": [],
   "source": [
    "keep_cols = ['ID', 'method', 'Evaluation Method', 'Fitting Model', 'Fixed Partner',\n",
    "       'Fixed Partner.1', 'Fixed Partner.2', 'Fixed Partner Type:',\n",
    "       'Fixed Partner Main Type:',\n",
    "       'Fixed Partner Species', 'Soluble Partner', 'Soluble Partner.1',\n",
    "       'Soluble Partner.2', 'Soluble Partner Type:',\n",
    "       'Soluble Partner Main Type:',\n",
    "       'Soluble Partner Species', 'kon/kass/ka', 'koff/kdis/kd',\n",
    "       'KD', 'Is raw data present?', 'Is the raw data of good quality?',\n",
    "       'Are fits shown?', 'How do the fits look?']\n",
    "\n",
    "koffi = koffi[keep_cols]"
   ]
  },
  {
   "cell_type": "code",
   "execution_count": 6,
   "metadata": {},
   "outputs": [
    {
     "data": {
      "text/plain": [
       "ID                                     0\n",
       "method                                 7\n",
       "Evaluation Method                   1101\n",
       "Fitting Model                        753\n",
       "Fixed Partner                         17\n",
       "Fixed Partner.1                      504\n",
       "Fixed Partner.2                     1005\n",
       "Fixed Partner Type:                  187\n",
       "Fixed Partner Main Type:               0\n",
       "Fixed Partner Species               1056\n",
       "Soluble Partner                       27\n",
       "Soluble Partner.1                    617\n",
       "Soluble Partner.2                   1137\n",
       "Soluble Partner Type:                217\n",
       "Soluble Partner Main Type:             0\n",
       "Soluble Partner Species             1086\n",
       "kon/kass/ka                          676\n",
       "koff/kdis/kd                         677\n",
       "KD                                   182\n",
       "Is raw data present?                   0\n",
       "Is the raw data of good quality?       0\n",
       "Are fits shown?                        0\n",
       "How do the fits look?                  0\n",
       "dtype: int64"
      ]
     },
     "execution_count": 6,
     "metadata": {},
     "output_type": "execute_result"
    }
   ],
   "source": [
    "koffi.isnull().sum()"
   ]
  },
  {
   "cell_type": "code",
   "execution_count": 42,
   "metadata": {},
   "outputs": [],
   "source": [
    "# dropping rows with no kinetics or binding data, or where one or both binding partners are not listed\n",
    "\n",
    "drop_rows = koffi.loc[\n",
    "    koffi['koff/kdis/kd'].isnull() | \n",
    "    koffi['kon/kass/ka'].isnull() | \n",
    "    koffi['KD'].isnull() | \n",
    "    koffi['Fixed Partner'].isnull()| \n",
    "    koffi['Soluble Partner'].isnull()\n",
    "    ].index\n",
    "\n",
    "koffi.drop(drop_rows, axis=0, inplace=True) "
   ]
  },
  {
   "cell_type": "code",
   "execution_count": 43,
   "metadata": {},
   "outputs": [
    {
     "data": {
      "text/plain": [
       "ID                                    0\n",
       "method                                0\n",
       "Evaluation Method                   599\n",
       "Fitting Model                       366\n",
       "Fixed Partner                         0\n",
       "Fixed Partner.1                     295\n",
       "Fixed Partner.2                     570\n",
       "Fixed Partner Type:                  99\n",
       "Fixed Partner Main Type:              0\n",
       "Fixed Partner Species               534\n",
       "Soluble Partner                       0\n",
       "Soluble Partner.1                   355\n",
       "Soluble Partner.2                   651\n",
       "Soluble Partner Type:                96\n",
       "Soluble Partner Main Type:            0\n",
       "Soluble Partner Species             533\n",
       "kon/kass/ka                           0\n",
       "koff/kdis/kd                          0\n",
       "KD                                    0\n",
       "Is raw data present?                  0\n",
       "Is the raw data of good quality?      0\n",
       "Are fits shown?                       0\n",
       "How do the fits look?                 0\n",
       "residence_time                        0\n",
       "dtype: int64"
      ]
     },
     "execution_count": 43,
     "metadata": {},
     "output_type": "execute_result"
    }
   ],
   "source": [
    "koffi.isnull().sum()"
   ]
  },
  {
   "cell_type": "code",
   "execution_count": 9,
   "metadata": {},
   "outputs": [],
   "source": [
    "# creating residence time column from inverse of koff\n",
    "koffi['residence_time'] = 1 / koffi['koff/kdis/kd']"
   ]
  },
  {
   "cell_type": "code",
   "execution_count": 48,
   "metadata": {},
   "outputs": [],
   "source": [
    "# creating subset of data where raw data is high quality and binding fits are shown\n",
    "koffi_hq_subset = koffi.loc[(koffi['Is the raw data of good quality?']=='Y') & (koffi['Are fits shown?']=='Y')]"
   ]
  },
  {
   "cell_type": "code",
   "execution_count": 49,
   "metadata": {},
   "outputs": [
    {
     "data": {
      "text/plain": [
       "Index(['ID', 'method', 'Evaluation Method', 'Fitting Model', 'Fixed Partner',\n",
       "       'Fixed Partner.1', 'Fixed Partner.2', 'Fixed Partner Type:',\n",
       "       'Fixed Partner Main Type:', 'Fixed Partner Species', 'Soluble Partner',\n",
       "       'Soluble Partner.1', 'Soluble Partner.2', 'Soluble Partner Type:',\n",
       "       'Soluble Partner Main Type:', 'Soluble Partner Species', 'kon/kass/ka',\n",
       "       'koff/kdis/kd', 'KD', 'Is raw data present?',\n",
       "       'Is the raw data of good quality?', 'Are fits shown?',\n",
       "       'How do the fits look?', 'residence_time'],\n",
       "      dtype='object')"
      ]
     },
     "execution_count": 49,
     "metadata": {},
     "output_type": "execute_result"
    }
   ],
   "source": [
    "koffi_hq_subset.columns"
   ]
  },
  {
   "cell_type": "code",
   "execution_count": 50,
   "metadata": {},
   "outputs": [
    {
     "data": {
      "text/plain": [
       "ID                                    0\n",
       "method                                0\n",
       "Evaluation Method                    86\n",
       "Fitting Model                        34\n",
       "Fixed Partner                         0\n",
       "Fixed Partner.1                      73\n",
       "Fixed Partner.2                     145\n",
       "Fixed Partner Type:                  17\n",
       "Fixed Partner Main Type:              0\n",
       "Fixed Partner Species               119\n",
       "Soluble Partner                       0\n",
       "Soluble Partner.1                    98\n",
       "Soluble Partner.2                   174\n",
       "Soluble Partner Type:                11\n",
       "Soluble Partner Main Type:            0\n",
       "Soluble Partner Species              99\n",
       "kon/kass/ka                           0\n",
       "koff/kdis/kd                          0\n",
       "KD                                    0\n",
       "Is raw data present?                  0\n",
       "Is the raw data of good quality?      0\n",
       "Are fits shown?                       0\n",
       "How do the fits look?                 0\n",
       "residence_time                        0\n",
       "dtype: int64"
      ]
     },
     "execution_count": 50,
     "metadata": {},
     "output_type": "execute_result"
    }
   ],
   "source": [
    "koffi_hq_subset.isnull().sum()"
   ]
  },
  {
   "cell_type": "code",
   "execution_count": 51,
   "metadata": {},
   "outputs": [],
   "source": [
    "keep_cols = ['ID', 'method', 'Fixed Partner',\n",
    "       'Fixed Partner Type:',\n",
    "       'Fixed Partner Main Type:', 'Fixed Partner Species', 'Soluble Partner',\n",
    "       'Soluble Partner Type:',\n",
    "       'Soluble Partner Main Type:', 'Soluble Partner Species', 'kon/kass/ka',\n",
    "       'koff/kdis/kd', 'KD', 'residence_time'\n",
    "]"
   ]
  },
  {
   "cell_type": "code",
   "execution_count": 54,
   "metadata": {},
   "outputs": [],
   "source": [
    "koffi = koffi[keep_cols]\n",
    "koffi_hq_subset = koffi_hq_subset[keep_cols]"
   ]
  },
  {
   "cell_type": "code",
   "execution_count": 57,
   "metadata": {},
   "outputs": [
    {
     "name": "stdout",
     "output_type": "stream",
     "text": [
      "(957, 14)\n",
      "(239, 14)\n"
     ]
    }
   ],
   "source": [
    "print(koffi.shape)\n",
    "print(koffi_hq_subset.shape)"
   ]
  },
  {
   "cell_type": "code",
   "execution_count": 59,
   "metadata": {},
   "outputs": [],
   "source": [
    "koffi.to_parquet('/Users/damien/Projects/drug-binding-kinetics/data/interim/koffi.parquet')\n",
    "koffi_hq_subset.to_parquet('/Users/damien/Projects/drug-binding-kinetics/data/interim/koffi_hq_subset.parquet')"
   ]
  }
 ],
 "metadata": {
  "kernelspec": {
   "display_name": "Python 3.9.13 ('drug-binding-kinetics')",
   "language": "python",
   "name": "python3"
  },
  "language_info": {
   "codemirror_mode": {
    "name": "ipython",
    "version": 3
   },
   "file_extension": ".py",
   "mimetype": "text/x-python",
   "name": "python",
   "nbconvert_exporter": "python",
   "pygments_lexer": "ipython3",
   "version": "3.9.13"
  },
  "orig_nbformat": 4,
  "vscode": {
   "interpreter": {
    "hash": "24c1730ddf682ee1f9fa37fcbd61a9f2d384106afa96d1ea5600002f9c5c20ae"
   }
  }
 },
 "nbformat": 4,
 "nbformat_minor": 2
}
