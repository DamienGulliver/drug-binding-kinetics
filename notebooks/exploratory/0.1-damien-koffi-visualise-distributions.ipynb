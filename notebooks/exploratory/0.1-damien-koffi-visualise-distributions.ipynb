{
 "cells": [
  {
   "cell_type": "code",
   "execution_count": 2,
   "metadata": {},
   "outputs": [],
   "source": [
    "import pandas as pd\n",
    "import pyarrow\n",
    "import seaborn as sns"
   ]
  },
  {
   "cell_type": "code",
   "execution_count": 3,
   "metadata": {},
   "outputs": [],
   "source": [
    "koffi = pd.read_parquet('/Users/damien/Projects/drug-binding-kinetics/data/interim/koffi.parquet')"
   ]
  },
  {
   "cell_type": "code",
   "execution_count": 4,
   "metadata": {},
   "outputs": [
    {
     "data": {
      "text/html": [
       "<div>\n",
       "<style scoped>\n",
       "    .dataframe tbody tr th:only-of-type {\n",
       "        vertical-align: middle;\n",
       "    }\n",
       "\n",
       "    .dataframe tbody tr th {\n",
       "        vertical-align: top;\n",
       "    }\n",
       "\n",
       "    .dataframe thead th {\n",
       "        text-align: right;\n",
       "    }\n",
       "</style>\n",
       "<table border=\"1\" class=\"dataframe\">\n",
       "  <thead>\n",
       "    <tr style=\"text-align: right;\">\n",
       "      <th></th>\n",
       "      <th>count</th>\n",
       "      <th>mean</th>\n",
       "      <th>std</th>\n",
       "      <th>min</th>\n",
       "      <th>25%</th>\n",
       "      <th>50%</th>\n",
       "      <th>75%</th>\n",
       "      <th>max</th>\n",
       "    </tr>\n",
       "  </thead>\n",
       "  <tbody>\n",
       "    <tr>\n",
       "      <th>ID</th>\n",
       "      <td>957.0</td>\n",
       "      <td>9.574713e+02</td>\n",
       "      <td>5.344562e+02</td>\n",
       "      <td>1.200000e+01</td>\n",
       "      <td>5.360000e+02</td>\n",
       "      <td>9.320000e+02</td>\n",
       "      <td>1.443000e+03</td>\n",
       "      <td>1.853000e+03</td>\n",
       "    </tr>\n",
       "    <tr>\n",
       "      <th>kon/kass/ka</th>\n",
       "      <td>957.0</td>\n",
       "      <td>3.675302e+06</td>\n",
       "      <td>4.900821e+07</td>\n",
       "      <td>1.180000e-06</td>\n",
       "      <td>3.000000e+04</td>\n",
       "      <td>1.410000e+05</td>\n",
       "      <td>3.950000e+05</td>\n",
       "      <td>1.097000e+09</td>\n",
       "    </tr>\n",
       "    <tr>\n",
       "      <th>koff/kdis/kd</th>\n",
       "      <td>957.0</td>\n",
       "      <td>7.654860e+00</td>\n",
       "      <td>9.450061e+01</td>\n",
       "      <td>1.090000e-09</td>\n",
       "      <td>2.640000e-04</td>\n",
       "      <td>1.300000e-03</td>\n",
       "      <td>7.000000e-03</td>\n",
       "      <td>1.620000e+03</td>\n",
       "    </tr>\n",
       "    <tr>\n",
       "      <th>KD</th>\n",
       "      <td>957.0</td>\n",
       "      <td>4.560431e-01</td>\n",
       "      <td>8.646426e+00</td>\n",
       "      <td>3.800000e-15</td>\n",
       "      <td>1.690000e-09</td>\n",
       "      <td>1.300000e-08</td>\n",
       "      <td>1.540000e-07</td>\n",
       "      <td>2.310000e+02</td>\n",
       "    </tr>\n",
       "    <tr>\n",
       "      <th>residence_time</th>\n",
       "      <td>957.0</td>\n",
       "      <td>2.387320e+06</td>\n",
       "      <td>3.453562e+07</td>\n",
       "      <td>6.172840e-04</td>\n",
       "      <td>1.428571e+02</td>\n",
       "      <td>7.692308e+02</td>\n",
       "      <td>3.787879e+03</td>\n",
       "      <td>9.174312e+08</td>\n",
       "    </tr>\n",
       "  </tbody>\n",
       "</table>\n",
       "</div>"
      ],
      "text/plain": [
       "                count          mean           std           min           25%  \\\n",
       "ID              957.0  9.574713e+02  5.344562e+02  1.200000e+01  5.360000e+02   \n",
       "kon/kass/ka     957.0  3.675302e+06  4.900821e+07  1.180000e-06  3.000000e+04   \n",
       "koff/kdis/kd    957.0  7.654860e+00  9.450061e+01  1.090000e-09  2.640000e-04   \n",
       "KD              957.0  4.560431e-01  8.646426e+00  3.800000e-15  1.690000e-09   \n",
       "residence_time  957.0  2.387320e+06  3.453562e+07  6.172840e-04  1.428571e+02   \n",
       "\n",
       "                         50%           75%           max  \n",
       "ID              9.320000e+02  1.443000e+03  1.853000e+03  \n",
       "kon/kass/ka     1.410000e+05  3.950000e+05  1.097000e+09  \n",
       "koff/kdis/kd    1.300000e-03  7.000000e-03  1.620000e+03  \n",
       "KD              1.300000e-08  1.540000e-07  2.310000e+02  \n",
       "residence_time  7.692308e+02  3.787879e+03  9.174312e+08  "
      ]
     },
     "execution_count": 4,
     "metadata": {},
     "output_type": "execute_result"
    }
   ],
   "source": [
    "koffi.describe().T"
   ]
  },
  {
   "cell_type": "code",
   "execution_count": null,
   "metadata": {},
   "outputs": [],
   "source": [
    "# bin continuous data to analyse distribution\n",
    "#pandas.cut(x, bins, right=True, labels=None, retbins=False, precision=3, include_lowest=False, duplicates='raise')"
   ]
  },
  {
   "cell_type": "code",
   "execution_count": 5,
   "metadata": {},
   "outputs": [],
   "source": [
    "sns.displot(data=koffi, x='residence_time')"
   ]
  }
 ],
 "metadata": {
  "kernelspec": {
   "display_name": "Python 3.9.13 ('drug-binding-kinetics')",
   "language": "python",
   "name": "python3"
  },
  "language_info": {
   "codemirror_mode": {
    "name": "ipython",
    "version": 3
   },
   "file_extension": ".py",
   "mimetype": "text/x-python",
   "name": "python",
   "nbconvert_exporter": "python",
   "pygments_lexer": "ipython3",
   "version": "3.9.13"
  },
  "orig_nbformat": 4,
  "vscode": {
   "interpreter": {
    "hash": "24c1730ddf682ee1f9fa37fcbd61a9f2d384106afa96d1ea5600002f9c5c20ae"
   }
  }
 },
 "nbformat": 4,
 "nbformat_minor": 2
}
